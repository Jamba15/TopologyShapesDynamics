{
 "cells": [
  {
   "cell_type": "markdown",
   "id": "f190a471",
   "metadata": {},
   "source": [
    "# Signal Processing Using Simplicial Complexes\n",
    "This notebook demonstrates the Dirac signal processing on simplicial complexes. We will start by setting up the configuration and constructing a simplicial complex graph. Then, we will process signals based on the constructed graph."
   ]
  },
  {
   "cell_type": "code",
   "execution_count": null,
   "id": "9d934d13",
   "metadata": {},
   "outputs": [],
   "source": [
    "from functions_signalprocess import *"
   ]
  },
  {
   "cell_type": "markdown",
   "id": "1a0c46de",
   "metadata": {},
   "source": [
    "## Configuration and Graph Construction\n",
    "We begin by parsing the configuration from a YAML file and constructing a simplicial complex graph based on the specified parameters. Look at the configuration file for further details."
   ]
  },
  {
   "cell_type": "code",
   "execution_count": null,
   "id": "ba94a0a3",
   "metadata": {},
   "outputs": [],
   "source": [
    "config = config_parser('signal_processing_config.yaml')\n",
    "graph = SimplicialComplexConstructor(**config['simplicial_complex_constructor'])\n",
    "graph.draw_graph()"
   ]
  },
  {
   "cell_type": "markdown",
   "id": "79129763",
   "metadata": {},
   "source": [
    "## Signal Processing\n",
    "We will now process signals on dimensions 0-1. The method of processing (D1 or D2) is determined by the configuration file."
   ]
  },
  {
   "cell_type": "code",
   "execution_count": null,
   "id": "092ebcf6",
   "metadata": {},
   "outputs": [],
   "source": [
    "if config['process_with'] == 'D1':\n",
    "    _, D = graph.create_B1_D1()\n",
    "else:\n",
    "    _, D = graph.create_B2_D2()\n",
    "\n",
    "signals = signal_elaboration(D)\n",
    "signals.plot_results(save_fig=False, fig_name='Processing with '+config['process_with'])"
   ]
  }
 ],
 "metadata": {},
 "nbformat": 4,
 "nbformat_minor": 5
}
