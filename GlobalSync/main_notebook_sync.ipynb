{
 "cells": [
  {
   "cell_type": "code",
   "execution_count": null,
   "id": "initial_id",
   "metadata": {
    "collapsed": true
   },
   "outputs": [],
   "source": [
    "from functions_sync import *\n",
    "from plotting_functions_sync import calculate_and_plot_dispersion, plot_results\n",
    "from scipy.integrate import solve_ivp"
   ]
  },
  {
   "cell_type": "markdown",
   "source": [
    "Load the configuration file that contains all the information to run the simulations. If a new set of configurations is needed, create a new file (with same format) and load it here.  \n",
    "After that insert the dimension of the simplicial complex."
   ],
   "metadata": {
    "collapsed": false
   },
   "id": "8f77e811cba1ef84"
  },
  {
   "cell_type": "code",
   "execution_count": null,
   "outputs": [],
   "source": [
    "config = LoadConfig('PRL.yml')\n",
    "k = 1"
   ],
   "metadata": {
    "collapsed": false
   },
   "id": "4eb621289f1bde2f"
  },
  {
   "cell_type": "markdown",
   "source": [
    "# Dispersion Relation Analysis\n",
    "\n",
    "In this section, we calculate and plot the dispersion relation. The dispersion relation helps us understand how wave characteristics like phase velocity and frequency are related to the wavevector. This analysis is crucial for understanding wave propagation in various physical systems.\n"
   ],
   "metadata": {
    "collapsed": false
   },
   "id": "9c4293a815d8b62"
  },
  {
   "cell_type": "code",
   "execution_count": null,
   "outputs": [],
   "source": [
    "# DISPERSION REALATION\n",
    "calculate_and_plot_dispersion(config, k)"
   ],
   "metadata": {
    "collapsed": false
   },
   "id": "a493d003bb79bd1e"
  },
  {
   "cell_type": "markdown",
   "source": [
    "# Initial Conditions for Integration\n",
    "\n",
    "Before integrating the system, we need to establish the initial conditions. This step involves setting the initial time, final time, initial wave conditions, and other relevant parameters. These conditions form the basis for our numerical integration.\n"
   ],
   "metadata": {
    "collapsed": false
   },
   "id": "90f4892e015c0d6a"
  },
  {
   "cell_type": "code",
   "execution_count": null,
   "outputs": [],
   "source": [
    "# INTEGRATION\n",
    "t_ini, t_final, w_init, Lk = initial_condition(k, config)\n"
   ],
   "metadata": {
    "collapsed": false
   },
   "id": "e40f2f11f72d49f7"
  },
  {
   "cell_type": "markdown",
   "source": [
    "# Numerical Integration using Runge-Kutta Method\n",
    "\n",
    "Here, we integrate the system of differential equations using the Runge-Kutta 4th order method (`RK45`). This method is widely used for its balance between computational efficiency and accuracy in solving ordinary differential equations. The integration will provide us with the evolution of the system over the specified time range.\n"
   ],
   "metadata": {
    "collapsed": false
   },
   "id": "386b55f26e83cbd1"
  },
  {
   "cell_type": "code",
   "execution_count": null,
   "outputs": [],
   "source": [
    "# Integrate the system of differential equations with the Runge-Kutta 4 method\n",
    "sol = solve_ivp(system_to_integrate, [t_ini, t_final], w_init, method='RK45', args=(config, Lk))\n"
   ],
   "metadata": {
    "collapsed": false
   },
   "id": "f0ad3a80fdb3f845"
  },
  {
   "cell_type": "markdown",
   "source": [
    "# Results Plotting\n",
    "\n",
    "After integrating the system, the next step is to visualize the results. Plotting the solutions helps in better understanding the dynamics of the system. It also allows for a quick assessment of the behavior of the system under the given conditions.\n"
   ],
   "metadata": {
    "collapsed": false
   },
   "id": "31c5261d32c3c821"
  },
  {
   "cell_type": "code",
   "execution_count": null,
   "outputs": [],
   "source": [
    "# PLOTTING\n",
    "plot_results(sol, k, config)"
   ],
   "metadata": {
    "collapsed": false
   },
   "id": "3200dca5dfd26902"
  }
 ],
 "metadata": {
  "kernelspec": {
   "display_name": "Python 3",
   "language": "python",
   "name": "python3"
  },
  "language_info": {
   "codemirror_mode": {
    "name": "ipython",
    "version": 2
   },
   "file_extension": ".py",
   "mimetype": "text/x-python",
   "name": "python",
   "nbconvert_exporter": "python",
   "pygments_lexer": "ipython2",
   "version": "2.7.6"
  }
 },
 "nbformat": 4,
 "nbformat_minor": 5
}
